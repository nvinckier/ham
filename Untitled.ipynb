{
 "cells": [
  {
   "cell_type": "code",
   "execution_count": 6,
   "id": "f5539714",
   "metadata": {},
   "outputs": [
    {
     "name": "stdout",
     "output_type": "stream",
     "text": [
      "Reporting indexes with hamming distance of \u001b[4m\u001b[36m4\u001b[0m or less\n",
      "\n",
      "\u001b[35mV1 sample sheet detected\u001b[0m (\u001b[3mDefaulting to bcl2fastq command-line settings\u001b[0m)\n",
      "\n",
      "\n",
      "\u001b[34mChecking i7 index (Index 1) sequences for collisions:\u001b[0m\n",
      "------------------------------------------------------------------------------------------------------------------------------------------------------\n",
      "1st i7 Index\t2nd i7 Index\tHamming Distance\tComment\n",
      "AACACTGTTA  \tAACACTGTTA  \t0               \t\u001b[31mBarcode Collision!\u001b[0m\n",
      "\n",
      "\u001b[31mBarcode Collision! Unable to demultiplex with these indexes alone.\u001b[0m\n",
      "Demultiplexing can still be performed if no collisions are detected for all i7+i5 combinations.\n",
      "In that case, the following command-line setting(s) \u001b[3mmust\u001b[0m be used with bcl2fastq for this index/index combination:\n",
      "--mismatches 0\n",
      "\n",
      "\n",
      "\u001b[34mChecking i5 index (Index 2) sequences for collisions:\u001b[0m\n",
      "------------------------------------------------------------------------------------------------------------------------------------------------------\n",
      "1st i5 Index\t2nd i5 Index\tHamming Distance\tComment\n",
      "GCAAGTCTCA  \tGCAAGTCTCG  \t1               \t\u001b[33m0 mismatches allowed for this index/index combination during demultiplexing.\u001b[0m\n",
      "\n",
      "The following command-line setting(s) \u001b[3mmust\u001b[0m be used with bcl2fastq for this index/index combination:\n",
      "--mismatches 0\n",
      "\n",
      "\n",
      "\u001b[34mChecking i7+i5 index (concatenation of Index 1 and Index 2) sequences for collisions:\u001b[0m\n",
      "------------------------------------------------------------------------------------------------------------------------------------------------------\n",
      "1st i7+i5 Index Combination\t2nd i7+i5 Index Combination\tHamming Distance\tComment\n",
      "AACACTGTTA+GCAAGTCTCA      \tAACACTGTTA+GCAAGTCTCG      \t1               \t\u001b[33m0 mismatches allowed for this index/index combination during demultiplexing.\u001b[0m\n",
      "\n",
      "The following command-line setting(s) \u001b[3mmust\u001b[0m be used with bcl2fastq for this index/index combination:\n",
      "--mismatches 0\n"
     ]
    }
   ],
   "source": [
    "%%bash\n",
    "ham -i SampleSheet.csv -v\n"
   ]
  },
  {
   "cell_type": "code",
   "execution_count": null,
   "id": "b4dadfe0",
   "metadata": {},
   "outputs": [],
   "source": []
  }
 ],
 "metadata": {
  "kernelspec": {
   "display_name": "Python 3",
   "language": "python",
   "name": "python3"
  },
  "language_info": {
   "codemirror_mode": {
    "name": "ipython",
    "version": 3
   },
   "file_extension": ".py",
   "mimetype": "text/x-python",
   "name": "python",
   "nbconvert_exporter": "python",
   "pygments_lexer": "ipython3",
   "version": "3.7.12"
  }
 },
 "nbformat": 4,
 "nbformat_minor": 5
}
